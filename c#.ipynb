{
 "cells": [
  {
   "cell_type": "code",
   "execution_count": 16,
   "metadata": {
    "dotnet_interactive": {
     "language": "csharp"
    },
    "polyglot_notebook": {
     "kernelName": "csharp"
    },
    "vscode": {
     "languageId": "polyglot-notebook"
    }
   },
   "outputs": [
    {
     "name": "stdout",
     "output_type": "stream",
     "text": [
      "full name: Rowan Atkinson\n",
      "greetings:hello\n",
      "message:hello from tutorials point\n",
      "message:message sent at 17:58 on 2012年10月10日\n"
     ]
    }
   ],
   "source": [
    "string fname, lname;\n",
    "fname = \"Rowan \";\n",
    "lname = \"Atkinson\";\n",
    "\n",
    "// 字符串连接\n",
    "string fullname = fname + lname;\n",
    "Console.WriteLine(\"full name: {0}\", fullname);\n",
    "\n",
    "// 通过使用string构造函数\n",
    "char[] letters = {'h', 'e', 'l', 'l', 'o'};\n",
    "string greetings = new string(letters);\n",
    "Console.WriteLine(\"greetings:{0}\", greetings);\n",
    "\n",
    "// 方法返回字符串\n",
    "string[] sarry = {\"hello\", \"from\", \"tutorials\", \"point\"};\n",
    "string message = String.Join(\" \", sarry);\n",
    "Console.WriteLine(\"message:{0}\", message);\n",
    "\n",
    "// 用于转化值的格式化方法\n",
    "DateTime waiting = new DateTime(2012, 10, 10, 17, 58, 1);\n",
    "string chat = String.Format(\"message sent at {0:t} on {0:D}\",waiting);\n",
    "Console.WriteLine(\"message:{0}\", chat);\n",
    "\n",
    "\n",
    "\n"
   ]
  },
  {
   "attachments": {},
   "cell_type": "markdown",
   "metadata": {},
   "source": [
    "# C# 接口"
   ]
  },
  {
   "attachments": {},
   "cell_type": "markdown",
   "metadata": {},
   "source": [
    "接口定义了所有类继承接口时应遵循的语法合同。接口定义了语法合同“是什么”部分，派生类定义了语法合同“怎么做”部分。\n",
    "\n",
    "接口定义了属性、方法和事件，这些都是接口的成员。接口只包含了成员的声明。成员的定义是派生类的责任。接口提供了派生类应遵循的标准结构。\n",
    "\n",
    "接口使得实现接口的类或结构在形式上保持一致。\n",
    "\n",
    "抽象类在某种程度上与接口类似，但是， 他们大多只是用在当只有少数方法由其基类声明由派生类实现时。\n",
    "\n",
    "接口本身并不实现任何功能，它只是和声明实现该接口的对象订立一个必须实现哪些行为的契约。\n",
    "\n",
    "抽象类不能直接实例化，但允许派生出具体的，具有实际功能的类。\n"
   ]
  },
  {
   "cell_type": "code",
   "execution_count": 1,
   "metadata": {
    "dotnet_interactive": {
     "language": "csharp"
    },
    "polyglot_notebook": {
     "kernelName": "csharp"
    },
    "vscode": {
     "languageId": "polyglot-notebook"
    }
   },
   "outputs": [],
   "source": [
    "interface IMyInterface{\n",
    "    // 接口成员\n",
    "    void MethodToImplement();\n",
    "}\n",
    "class InterfaceImplement:IMyInterface{\n",
    "\n",
    "\n",
    "    public void MethodToImplement(){\n",
    "        Console.WriteLine(\"MethodToImplement() called\");\n",
    "    }\n",
    "}"
   ]
  },
  {
   "cell_type": "code",
   "execution_count": 2,
   "metadata": {
    "dotnet_interactive": {
     "language": "csharp"
    },
    "polyglot_notebook": {
     "kernelName": "csharp"
    },
    "vscode": {
     "languageId": "polyglot-notebook"
    }
   },
   "outputs": [
    {
     "name": "stdout",
     "output_type": "stream",
     "text": [
      "MethodToImplement() Called\n",
      "ParentInterfaceMethod() Called\n"
     ]
    }
   ],
   "source": [
    "interface IParentInterface{\n",
    "    void ParentInterfaceMethod();\n",
    "}\n",
    "interface IMyInterface:IParentInterface{\n",
    "    void MethodToImplement();\n",
    "}\n",
    "\n",
    "class InterfaceImplementer:IMyInterface{\n",
    "    public void MethodToImplement(){\n",
    "        Console.WriteLine(\"MethodToImplement() Called\");\n",
    "    }\n",
    "    public void ParentInterfaceMethod(){\n",
    "        Console.WriteLine(\"ParentInterfaceMethod() Called\");\n",
    "    }\n",
    "}\n",
    "InterfaceImplementer iImp = new InterfaceImplementer();\n",
    "iImp.MethodToImplement();\n",
    "iImp.ParentInterfaceMethod();"
   ]
  }
 ],
 "metadata": {
  "language_info": {
   "name": "python"
  },
  "orig_nbformat": 4
 },
 "nbformat": 4,
 "nbformat_minor": 2
}
